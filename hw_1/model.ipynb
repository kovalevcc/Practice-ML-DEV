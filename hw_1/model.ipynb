{
 "cells": [
  {
   "cell_type": "code",
   "execution_count": 1,
   "metadata": {},
   "outputs": [],
   "source": [
    "import pickle\n",
    "import matplotlib.pyplot as plt\n",
    "import pandas as pd\n",
    "import seaborn as sns\n",
    "from catboost import CatBoostClassifier\n",
    "from sklearn.feature_extraction.text import TfidfVectorizer\n",
    "from sklearn.linear_model import LogisticRegression\n",
    "from sklearn.metrics import classification_report\n",
    "from sklearn.model_selection import train_test_split\n",
    "from sklearn.naive_bayes import MultinomialNB\n"
   ]
  },
  {
   "cell_type": "code",
   "execution_count": 2,
   "metadata": {},
   "outputs": [],
   "source": [
    "RANDOM_STATE = 42"
   ]
  },
  {
   "cell_type": "code",
   "execution_count": 3,
   "metadata": {},
   "outputs": [],
   "source": [
    "data = pd.read_csv(\"dataset2/pricerunner_aggregate.csv\")"
   ]
  },
  {
   "cell_type": "markdown",
   "metadata": {},
   "source": [
    "# EDA"
   ]
  },
  {
   "cell_type": "code",
   "execution_count": 4,
   "metadata": {},
   "outputs": [
    {
     "name": "stdout",
     "output_type": "stream",
     "text": [
      "<class 'pandas.core.frame.DataFrame'>\n",
      "RangeIndex: 35311 entries, 0 to 35310\n",
      "Data columns (total 7 columns):\n",
      " #   Column           Non-Null Count  Dtype \n",
      "---  ------           --------------  ----- \n",
      " 0   Product ID       35311 non-null  int64 \n",
      " 1   Product Title    35311 non-null  object\n",
      " 2    Merchant ID     35311 non-null  int64 \n",
      " 3    Cluster ID      35311 non-null  int64 \n",
      " 4    Cluster Label   35311 non-null  object\n",
      " 5    Category ID     35311 non-null  int64 \n",
      " 6    Category Label  35311 non-null  object\n",
      "dtypes: int64(4), object(3)\n",
      "memory usage: 1.9+ MB\n"
     ]
    }
   ],
   "source": [
    "data.info()"
   ]
  },
  {
   "cell_type": "code",
   "execution_count": 5,
   "metadata": {},
   "outputs": [
    {
     "data": {
      "text/html": [
       "<div>\n",
       "<style scoped>\n",
       "    .dataframe tbody tr th:only-of-type {\n",
       "        vertical-align: middle;\n",
       "    }\n",
       "\n",
       "    .dataframe tbody tr th {\n",
       "        vertical-align: top;\n",
       "    }\n",
       "\n",
       "    .dataframe thead th {\n",
       "        text-align: right;\n",
       "    }\n",
       "</style>\n",
       "<table border=\"1\" class=\"dataframe\">\n",
       "  <thead>\n",
       "    <tr style=\"text-align: right;\">\n",
       "      <th></th>\n",
       "      <th>Product ID</th>\n",
       "      <th>Merchant ID</th>\n",
       "      <th>Cluster ID</th>\n",
       "      <th>Category ID</th>\n",
       "    </tr>\n",
       "  </thead>\n",
       "  <tbody>\n",
       "    <tr>\n",
       "      <th>count</th>\n",
       "      <td>35311.000000</td>\n",
       "      <td>35311.000000</td>\n",
       "      <td>35311.000000</td>\n",
       "      <td>35311.000000</td>\n",
       "    </tr>\n",
       "    <tr>\n",
       "      <th>mean</th>\n",
       "      <td>26150.800176</td>\n",
       "      <td>120.501883</td>\n",
       "      <td>30110.687633</td>\n",
       "      <td>2618.142930</td>\n",
       "    </tr>\n",
       "    <tr>\n",
       "      <th>std</th>\n",
       "      <td>13498.191220</td>\n",
       "      <td>117.045557</td>\n",
       "      <td>18410.265642</td>\n",
       "      <td>3.600708</td>\n",
       "    </tr>\n",
       "    <tr>\n",
       "      <th>min</th>\n",
       "      <td>1.000000</td>\n",
       "      <td>1.000000</td>\n",
       "      <td>1.000000</td>\n",
       "      <td>2612.000000</td>\n",
       "    </tr>\n",
       "    <tr>\n",
       "      <th>25%</th>\n",
       "      <td>14958.500000</td>\n",
       "      <td>17.000000</td>\n",
       "      <td>6123.000000</td>\n",
       "      <td>2615.000000</td>\n",
       "    </tr>\n",
       "    <tr>\n",
       "      <th>50%</th>\n",
       "      <td>27614.000000</td>\n",
       "      <td>75.000000</td>\n",
       "      <td>40630.000000</td>\n",
       "      <td>2619.000000</td>\n",
       "    </tr>\n",
       "    <tr>\n",
       "      <th>75%</th>\n",
       "      <td>37508.500000</td>\n",
       "      <td>253.000000</td>\n",
       "      <td>44059.000000</td>\n",
       "      <td>2622.000000</td>\n",
       "    </tr>\n",
       "    <tr>\n",
       "      <th>max</th>\n",
       "      <td>47358.000000</td>\n",
       "      <td>371.000000</td>\n",
       "      <td>47525.000000</td>\n",
       "      <td>2623.000000</td>\n",
       "    </tr>\n",
       "  </tbody>\n",
       "</table>\n",
       "</div>"
      ],
      "text/plain": [
       "         Product ID   Merchant ID    Cluster ID   Category ID\n",
       "count  35311.000000  35311.000000  35311.000000  35311.000000\n",
       "mean   26150.800176    120.501883  30110.687633   2618.142930\n",
       "std    13498.191220    117.045557  18410.265642      3.600708\n",
       "min        1.000000      1.000000      1.000000   2612.000000\n",
       "25%    14958.500000     17.000000   6123.000000   2615.000000\n",
       "50%    27614.000000     75.000000  40630.000000   2619.000000\n",
       "75%    37508.500000    253.000000  44059.000000   2622.000000\n",
       "max    47358.000000    371.000000  47525.000000   2623.000000"
      ]
     },
     "execution_count": 5,
     "metadata": {},
     "output_type": "execute_result"
    }
   ],
   "source": [
    "data.describe()"
   ]
  },
  {
   "cell_type": "code",
   "execution_count": 6,
   "metadata": {},
   "outputs": [
    {
     "data": {
      "text/html": [
       "<div>\n",
       "<style scoped>\n",
       "    .dataframe tbody tr th:only-of-type {\n",
       "        vertical-align: middle;\n",
       "    }\n",
       "\n",
       "    .dataframe tbody tr th {\n",
       "        vertical-align: top;\n",
       "    }\n",
       "\n",
       "    .dataframe thead th {\n",
       "        text-align: right;\n",
       "    }\n",
       "</style>\n",
       "<table border=\"1\" class=\"dataframe\">\n",
       "  <thead>\n",
       "    <tr style=\"text-align: right;\">\n",
       "      <th></th>\n",
       "      <th>Product ID</th>\n",
       "      <th>Product Title</th>\n",
       "      <th>Merchant ID</th>\n",
       "      <th>Cluster ID</th>\n",
       "      <th>Cluster Label</th>\n",
       "      <th>Category ID</th>\n",
       "      <th>Category Label</th>\n",
       "    </tr>\n",
       "  </thead>\n",
       "  <tbody>\n",
       "    <tr>\n",
       "      <th>18654</th>\n",
       "      <td>28783</td>\n",
       "      <td>gorenje gi66160s geschirrsp ler integrierbar</td>\n",
       "      <td>119</td>\n",
       "      <td>40956</td>\n",
       "      <td>Gorenje GI66160S Stainless Steel</td>\n",
       "      <td>2619</td>\n",
       "      <td>Dishwashers</td>\n",
       "    </tr>\n",
       "    <tr>\n",
       "      <th>32037</th>\n",
       "      <td>43747</td>\n",
       "      <td>neff ki1412s30g integrated tall fridge</td>\n",
       "      <td>7</td>\n",
       "      <td>46149</td>\n",
       "      <td>Neff KI1412S30G Integrated</td>\n",
       "      <td>2623</td>\n",
       "      <td>Fridges</td>\n",
       "    </tr>\n",
       "    <tr>\n",
       "      <th>18897</th>\n",
       "      <td>29037</td>\n",
       "      <td>zanussi zdv12002fa 9 place slimline fully inte...</td>\n",
       "      <td>293</td>\n",
       "      <td>41046</td>\n",
       "      <td>Zanussi ZDV12002FA Integrated</td>\n",
       "      <td>2619</td>\n",
       "      <td>Dishwashers</td>\n",
       "    </tr>\n",
       "    <tr>\n",
       "      <th>6149</th>\n",
       "      <td>12177</td>\n",
       "      <td>samsung ue28j4100ak. display diagonal 71.1 cm ...</td>\n",
       "      <td>18</td>\n",
       "      <td>4756</td>\n",
       "      <td>Samsung UE28J4100</td>\n",
       "      <td>2614</td>\n",
       "      <td>TVs</td>\n",
       "    </tr>\n",
       "    <tr>\n",
       "      <th>5636</th>\n",
       "      <td>11642</td>\n",
       "      <td>samsung uemu6400 inch ultra hd 4k smart tv</td>\n",
       "      <td>53</td>\n",
       "      <td>4603</td>\n",
       "      <td>Samsung UE55MU6400</td>\n",
       "      <td>2614</td>\n",
       "      <td>TVs</td>\n",
       "    </tr>\n",
       "  </tbody>\n",
       "</table>\n",
       "</div>"
      ],
      "text/plain": [
       "       Product ID                                      Product Title  \\\n",
       "18654       28783       gorenje gi66160s geschirrsp ler integrierbar   \n",
       "32037       43747             neff ki1412s30g integrated tall fridge   \n",
       "18897       29037  zanussi zdv12002fa 9 place slimline fully inte...   \n",
       "6149        12177  samsung ue28j4100ak. display diagonal 71.1 cm ...   \n",
       "5636        11642         samsung uemu6400 inch ultra hd 4k smart tv   \n",
       "\n",
       "        Merchant ID   Cluster ID                     Cluster Label  \\\n",
       "18654           119        40956  Gorenje GI66160S Stainless Steel   \n",
       "32037             7        46149        Neff KI1412S30G Integrated   \n",
       "18897           293        41046     Zanussi ZDV12002FA Integrated   \n",
       "6149             18         4756                 Samsung UE28J4100   \n",
       "5636             53         4603                Samsung UE55MU6400   \n",
       "\n",
       "        Category ID  Category Label  \n",
       "18654          2619     Dishwashers  \n",
       "32037          2623         Fridges  \n",
       "18897          2619     Dishwashers  \n",
       "6149           2614             TVs  \n",
       "5636           2614             TVs  "
      ]
     },
     "execution_count": 6,
     "metadata": {},
     "output_type": "execute_result"
    }
   ],
   "source": [
    "data.sample(5)"
   ]
  },
  {
   "cell_type": "code",
   "execution_count": 7,
   "metadata": {},
   "outputs": [],
   "source": [
    "data.columns = [\n",
    "    \"product_id\",\n",
    "    \"product_title\",\n",
    "    \"merchant_id\",\n",
    "    \"cluster_id\",\n",
    "    \"cluster_label\",\n",
    "    \"category_id\",\n",
    "    \"category_label\",\n",
    "]"
   ]
  },
  {
   "cell_type": "code",
   "execution_count": 8,
   "metadata": {},
   "outputs": [
    {
     "data": {
      "image/png": "[encoded data removed]",
      "text/plain": [
       "<Figure size 1000x600 with 1 Axes>"
      ]
     },
     "metadata": {},
     "output_type": "display_data"
    }
   ],
   "source": [
    "top_categories = data[\"category_label\"].value_counts().head(10)\n",
    "\n",
    "plt.figure(figsize=(10, 6))\n",
    "sns.barplot(\n",
    "    x=top_categories.values,\n",
    "    y=top_categories.index,\n",
    "    palette=\"crest\",\n",
    "    hue=top_categories.index,\n",
    ")\n",
    "plt.title(\"Наиболее популярные категории\", fontsize=16)\n",
    "plt.xlabel(\"Кол-во\", fontsize=12)\n",
    "plt.ylabel(\"Категория\", fontsize=12)\n",
    "plt.show()"
   ]
  },
  {
   "cell_type": "code",
   "execution_count": 9,
   "metadata": {},
   "outputs": [
    {
     "name": "stderr",
     "output_type": "stream",
     "text": [
      "/tmp/ipykernel_3032/3615502772.py:1: FutureWarning: \n",
      "\n",
      "Passing `palette` without assigning `hue` is deprecated and will be removed in v0.14.0. Assign the `y` variable to `hue` and set `legend=False` for the same effect.\n",
      "\n",
      "  sns.barplot(\n"
     ]
    },
    {
     "data": {
      "image/png": "[encoded data removed]",
      "text/plain": [
       "<Figure size 640x480 with 1 Axes>"
      ]
     },
     "metadata": {},
     "output_type": "display_data"
    }
   ],
   "source": [
    "sns.barplot(\n",
    "    x=data[\"category_id\"].value_counts(),\n",
    "    y=data[\"category_id\"].value_counts().index,\n",
    "    palette=\"mako\",\n",
    "    orient=\"h\",\n",
    ")\n",
    "plt.show()"
   ]
  },
  {
   "cell_type": "code",
   "execution_count": 10,
   "metadata": {},
   "outputs": [
    {
     "data": {
      "text/plain": [
       "Series([], Name: category_label, dtype: int64)"
      ]
     },
     "execution_count": 10,
     "metadata": {},
     "output_type": "execute_result"
    }
   ],
   "source": [
    "unique_labels_per_id = data.groupby(\"category_id\")[\"category_label\"].nunique()\n",
    "non_unique_ids = unique_labels_per_id[unique_labels_per_id > 1]\n",
    "non_unique_ids"
   ]
  },
  {
   "cell_type": "markdown",
   "metadata": {},
   "source": [
    "Все Id соответствуют category_label"
   ]
  },
  {
   "cell_type": "code",
   "execution_count": 11,
   "metadata": {},
   "outputs": [
    {
     "name": "stdout",
     "output_type": "stream",
     "text": [
      "Сопоставление лейблов и номеров категорий \n",
      " {2612: 'Mobile Phones', 2614: 'TVs', 2615: 'CPUs', 2617: 'Digital Cameras', 2618: 'Microwaves', 2619: 'Dishwashers', 2620: 'Washing Machines', 2621: 'Freezers', 2622: 'Fridge Freezers', 2623: 'Fridges'}\n"
     ]
    }
   ],
   "source": [
    "category_mapping = (\n",
    "    data[[\"category_id\", \"category_label\"]]\n",
    "    .drop_duplicates()\n",
    "    .set_index(\"category_id\")[\"category_label\"]\n",
    "    .to_dict()\n",
    ")\n",
    "print(f\"Сопоставление лейблов и номеров категорий \\n\", category_mapping)"
   ]
  },
  {
   "cell_type": "code",
   "execution_count": 12,
   "metadata": {},
   "outputs": [],
   "source": [
    "x = data[\"product_title\"]\n",
    "y = data[\"category_id\"]"
   ]
  },
  {
   "cell_type": "code",
   "execution_count": 13,
   "metadata": {},
   "outputs": [],
   "source": [
    "x_train, x_valid, y_train, y_valid = train_test_split(\n",
    "    x, y, test_size=0.2, random_state=RANDOM_STATE\n",
    ")"
   ]
  },
  {
   "cell_type": "code",
   "execution_count": 14,
   "metadata": {},
   "outputs": [],
   "source": [
    "tfidf = TfidfVectorizer(\n",
    "    max_features=10000, stop_words=\"english\", ngram_range=(1, 4), lowercase=True\n",
    ")\n",
    "x_train = tfidf.fit_transform(x_train)\n",
    "x_valid = tfidf.transform(x_valid)"
   ]
  },
  {
   "cell_type": "code",
   "execution_count": 15,
   "metadata": {},
   "outputs": [],
   "source": [
    "with open(\"tfidf.pkl\", \"wb\") as tfidf_file:\n",
    "    pickle.dump(tfidf, tfidf_file)"
   ]
  },
  {
   "cell_type": "markdown",
   "metadata": {},
   "source": [
    "## Model 1 - CatBoost"
   ]
  },
  {
   "cell_type": "code",
   "execution_count": 16,
   "metadata": {},
   "outputs": [
    {
     "data": {
      "application/vnd.jupyter.widget-view+json": {
       "model_id": "f18429a5d4714abfaab8c81bc823be67",
       "version_major": 2,
       "version_minor": 0
      },
      "text/plain": [
       "MetricVisualizer(layout=Layout(align_self='stretch', height='500px'))"
      ]
     },
     "metadata": {},
     "output_type": "display_data"
    },
    {
     "name": "stdout",
     "output_type": "stream",
     "text": [
      "0:\tlearn: 0.5116548\ttest: 0.5028745\tbest: 0.5028745 (0)\ttotal: 59.6ms\tremaining: 59.6s\n",
      "500:\tlearn: 0.9449430\ttest: 0.9332538\tbest: 0.9332538 (492)\ttotal: 23.8s\tremaining: 23.8s\n",
      "999:\tlearn: 0.9502459\ttest: 0.9375182\tbest: 0.9375182 (997)\ttotal: 46.6s\tremaining: 0us\n",
      "bestTest = 0.9375181512\n",
      "bestIteration = 997\n",
      "Shrink model to first 998 iterations.\n"
     ]
    },
    {
     "data": {
      "text/plain": [
       "<catboost.core.CatBoostClassifier at 0x7fc8c269f910>"
      ]
     },
     "execution_count": 16,
     "metadata": {},
     "output_type": "execute_result"
    }
   ],
   "source": [
    "model = CatBoostClassifier(\n",
    "    random_seed=RANDOM_STATE,\n",
    "    iterations=1000,\n",
    "    depth=5,\n",
    "    learning_rate=0.15,\n",
    "    eval_metric=\"TotalF1\",\n",
    "    use_best_model=True,\n",
    "    task_type=\"GPU\",\n",
    "    devices=\"0:1\",\n",
    ")\n",
    "model.fit(x_train, y_train, eval_set=(x_valid, y_valid), verbose=500, plot=True)"
   ]
  },
  {
   "cell_type": "code",
   "execution_count": 17,
   "metadata": {},
   "outputs": [
    {
     "name": "stdout",
     "output_type": "stream",
     "text": [
      "              precision    recall  f1-score   support\n",
      "\n",
      "        2612       0.88      1.00      0.93       818\n",
      "        2614       0.97      0.97      0.97       723\n",
      "        2615       1.00      0.99      0.99       771\n",
      "        2617       1.00      0.97      0.98       542\n",
      "        2618       0.97      0.93      0.95       469\n",
      "        2619       0.88      0.94      0.91       662\n",
      "        2620       0.94      0.93      0.94       796\n",
      "        2621       0.98      0.90      0.94       439\n",
      "        2622       0.94      0.89      0.92      1115\n",
      "        2623       0.87      0.86      0.87       728\n",
      "\n",
      "    accuracy                           0.94      7063\n",
      "   macro avg       0.94      0.94      0.94      7063\n",
      "weighted avg       0.94      0.94      0.94      7063\n",
      "\n"
     ]
    }
   ],
   "source": [
    "print(classification_report(y_valid, model.predict(x_valid)))"
   ]
  },
  {
   "cell_type": "code",
   "execution_count": 18,
   "metadata": {},
   "outputs": [],
   "source": [
    "with open(\"model1.pkl\", \"wb\") as model1_file:\n",
    "    pickle.dump(model, model1_file)"
   ]
  },
  {
   "cell_type": "markdown",
   "metadata": {},
   "source": [
    "## Model 2 - logistic regression"
   ]
  },
  {
   "cell_type": "code",
   "execution_count": 19,
   "metadata": {},
   "outputs": [
    {
     "name": "stdout",
     "output_type": "stream",
     "text": [
      "              precision    recall  f1-score   support\n",
      "\n",
      "        2612       0.98      1.00      0.99       818\n",
      "        2614       0.97      0.99      0.98       723\n",
      "        2615       1.00      0.99      1.00       771\n",
      "        2617       1.00      1.00      1.00       542\n",
      "        2618       0.97      0.95      0.96       469\n",
      "        2619       0.89      0.95      0.92       662\n",
      "        2620       0.94      0.94      0.94       796\n",
      "        2621       0.98      0.91      0.94       439\n",
      "        2622       0.94      0.92      0.93      1115\n",
      "        2623       0.90      0.90      0.90       728\n",
      "\n",
      "    accuracy                           0.95      7063\n",
      "   macro avg       0.96      0.95      0.95      7063\n",
      "weighted avg       0.95      0.95      0.95      7063\n",
      "\n"
     ]
    }
   ],
   "source": [
    "model2 = LogisticRegression(random_state=RANDOM_STATE, max_iter=1000)\n",
    "model2.fit(x_train, y_train)\n",
    "print(classification_report(y_valid, model2.predict(x_valid)))"
   ]
  },
  {
   "cell_type": "code",
   "execution_count": 20,
   "metadata": {},
   "outputs": [],
   "source": [
    "with open(\"model2.pkl\", \"wb\") as model2_file:\n",
    "    pickle.dump(model2, model2_file)"
   ]
  },
  {
   "cell_type": "markdown",
   "metadata": {},
   "source": [
    "## Model 3 - Naive Bayes"
   ]
  },
  {
   "cell_type": "code",
   "execution_count": 21,
   "metadata": {},
   "outputs": [
    {
     "name": "stdout",
     "output_type": "stream",
     "text": [
      "              precision    recall  f1-score   support\n",
      "\n",
      "        2612       0.99      0.99      0.99       818\n",
      "        2614       0.97      0.99      0.98       723\n",
      "        2615       1.00      0.99      1.00       771\n",
      "        2617       0.99      1.00      0.99       542\n",
      "        2618       1.00      0.94      0.97       469\n",
      "        2619       0.88      0.94      0.91       662\n",
      "        2620       0.95      0.94      0.94       796\n",
      "        2621       0.98      0.77      0.87       439\n",
      "        2622       0.85      0.92      0.88      1115\n",
      "        2623       0.88      0.85      0.86       728\n",
      "\n",
      "    accuracy                           0.94      7063\n",
      "   macro avg       0.95      0.93      0.94      7063\n",
      "weighted avg       0.94      0.94      0.94      7063\n",
      "\n"
     ]
    }
   ],
   "source": [
    "model3 = MultinomialNB()\n",
    "model3.fit(x_train, y_train)\n",
    "print(classification_report(y_valid, model3.predict(x_valid)))"
   ]
  },
  {
   "cell_type": "code",
   "execution_count": 22,
   "metadata": {},
   "outputs": [],
   "source": [
    "with open(\"model3.pkl\", \"wb\") as model3_file:\n",
    "    pickle.dump(model3, model3_file)"
   ]
  }
 ],
 "metadata": {
  "kernelspec": {
   "display_name": "hw_5",
   "language": "python",
   "name": "python3"
  },
  "language_info": {
   "codemirror_mode": {
    "name": "ipython",
    "version": 3
   },
   "file_extension": ".py",
   "mimetype": "text/x-python",
   "name": "python",
   "nbconvert_exporter": "python",
   "pygments_lexer": "ipython3",
   "version": "3.10.0"
  }
 },
 "nbformat": 4,
 "nbformat_minor": 2
}
